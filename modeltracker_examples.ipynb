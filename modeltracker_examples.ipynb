{
 "cells": [
  {
   "cell_type": "markdown",
   "metadata": {},
   "source": [
    "# ModelTracker"
   ]
  },
  {
   "cell_type": "markdown",
   "metadata": {},
   "source": [
    "* [Description](#Description)\n",
    "* [Usage](#Usage)\n",
    "* [Arguments](#Arguments)\n",
    "* [Source Code](#Source-code)\n",
    "* [Read in data](#Read-in-data)\n",
    "* [ModelTracker default options](#ModelTracker-default-options)\n",
    "* [Custom functions](#Custom-functions)\n",
    "* [Custom metrics](#Custom-metrics)"
   ]
  },
  {
   "cell_type": "markdown",
   "metadata": {},
   "source": [
    "## Description"
   ]
  },
  {
   "cell_type": "markdown",
   "metadata": {},
   "source": [
    "This tool is designed to keep track of all changes made to your models, and to track any metrics you want to run on your models. For example if you make many changes to your model's formula, just run\n",
    "\n",
    "> `track(model)`\n",
    "\n",
    "after every iteration to store all the models you tested and it will track them, store them in a dataframe, and sort them by time. It can also keep track of metrics, functions you want to run on your model, and custom metrics."
   ]
  },
  {
   "cell_type": "markdown",
   "metadata": {},
   "source": [
    "## Usage"
   ]
  },
  {
   "cell_type": "code",
   "execution_count": null,
   "metadata": {
    "collapsed": false
   },
   "outputs": [],
   "source": [
    "track(model, metrics=NULL, customMetrics=NULL, ...)"
   ]
  },
  {
   "cell_type": "markdown",
   "metadata": {},
   "source": [
    "## Arguments"
   ]
  },
  {
   "cell_type": "markdown",
   "metadata": {},
   "source": [
    "<code style=\"background-color: #f9f2f4;\">metrics</code>&emsp;&emsp;&emsp;&emsp;&emsp;&emsp;&nbsp;&nbsp; A list of strings that exist as attributes on the model.\n",
    "\n",
    "<code style=\"background-color: #f9f2f4;\">customFunctions</code>&emsp; A list of strings that exists as functions you have defined.\n",
    "\n",
    "<code style=\"background-color: #f9f2f4;\">...</code>&emsp;&emsp;&emsp;&emsp;&emsp;&emsp;&emsp;&emsp;&emsp;&nbsp;&nbsp; Additional arguments to be entered as new columns in the `MODELS` dataframe."
   ]
  },
  {
   "cell_type": "markdown",
   "metadata": {},
   "source": [
    "## Source code"
   ]
  },
  {
   "cell_type": "code",
   "execution_count": 2,
   "metadata": {
    "collapsed": false
   },
   "outputs": [],
   "source": [
    "library(plyr)\n",
    "library(dplyr)\n",
    "\n",
    "track <- function(model, metrics=NULL, customFunctions=NULL, ...){\n",
    "    \n",
    "    kwargs <- list(...);\n",
    "    \n",
    "    environmentVars <- list(\n",
    "        datetime = format(Sys.time(), \"%Y-%m-%d %H:%M:%S\"),\n",
    "        username = Sys.info()[[\"user\"]],\n",
    "        className = class(model)[[1]]\n",
    "    )\n",
    "    \n",
    "    form <- data.frame(formula=paste(deparse(formula(model)), collapse=''));\n",
    "    \n",
    "    for (env in names(environmentVars)){\n",
    "        form[[env]] <-  environmentVars[[env]];\n",
    "    }\n",
    "\n",
    "    if (!is.null(metrics)){\n",
    "        for (metric in metrics){\n",
    "            form[[metric]]  <- summary(model)[[metric]];\n",
    "        }\n",
    "    }\n",
    "\n",
    "    if (!is.null(customFunctions)){\n",
    "        for (cmetric in customFunctions){\n",
    "            form[[cmetric]] <- get(cmetric)(model);\n",
    "        }\n",
    "    }\n",
    "\n",
    "    for (arg in names(kwargs)){\n",
    "        form[[arg]] <- kwargs[[arg]];\n",
    "    }\n",
    "    \n",
    "    DIRTY_METRICS <- FALSE;\n",
    "    \n",
    "    if (exists('METRICS_LIST')){\n",
    "        \n",
    "        DIRTY_METRICS <- FALSE %in% \n",
    "            unique(\n",
    "                append(\n",
    "                    names(kwargs), unlist(\n",
    "                        append(\n",
    "                            metrics, customFunctions\n",
    "                        )\n",
    "                    )\n",
    "                ) == METRICS_LIST\n",
    "            )\n",
    "        \n",
    "        if (DIRTY_METRICS){\n",
    "            MMODELS <<- form;\n",
    "        }\n",
    "    }\n",
    "    \n",
    "    METRICS_LIST <<- append(\n",
    "        names(kwargs), unlist(\n",
    "            append(\n",
    "                metrics, customFunctions\n",
    "            )\n",
    "        )\n",
    "    )\n",
    "\n",
    "    if (exists('MODELS')){\n",
    "        COUNTER <<- COUNTER + 1;\n",
    "    } else {\n",
    "        MODELS <<- form;\n",
    "        COUNTER <<- 1;\n",
    "    }\n",
    "    \n",
    "    if (exists('METRICS_LIST') & DIRTY_METRICS){\n",
    "\n",
    "        for (env in names(environmentVars)){\n",
    "            MMODELS[[env]] <<-  environmentVars[[env]];\n",
    "        }\n",
    "\n",
    "        if (!is.null(metrics)){\n",
    "            for (metric in metrics){\n",
    "                MMODELS[[metric]]  <<- summary(model)[[metric]];\n",
    "            }\n",
    "        }\n",
    "\n",
    "        if (!is.null(customFunctions)){\n",
    "            for (cmetric in customFunctions){\n",
    "                MMODELS[[cmetric]] <<- get(cmetric)(model);\n",
    "            }\n",
    "        }\n",
    "\n",
    "        for (arg in names(kwargs)){\n",
    "            MMODELS[[arg]] <<- kwargs[[arg]];\n",
    "        }\n",
    "    }\n",
    "    \n",
    "    if (COUNTER > 1){\n",
    "        if (DIRTY_METRICS){\n",
    "            combinedDf <- rbind.fill(MODELS, MMODELS);\n",
    "            MODELS <<- combinedDf[with(combinedDf, order(datetime, decreasing=TRUE)),];\n",
    "        } else {\n",
    "            combinedDf <- rbind.fill(MODELS, form);\n",
    "            MODELS <<- combinedDf[with(combinedDf, order(datetime, decreasing=TRUE)),];\n",
    "        }\n",
    "    }\n",
    "    return(form);\n",
    "}"
   ]
  },
  {
   "cell_type": "markdown",
   "metadata": {},
   "source": [
    "## Read in data"
   ]
  },
  {
   "cell_type": "code",
   "execution_count": 3,
   "metadata": {
    "collapsed": true
   },
   "outputs": [],
   "source": [
    "df <- read.csv('middle_tn_schools.csv')"
   ]
  },
  {
   "cell_type": "code",
   "execution_count": 4,
   "metadata": {
    "collapsed": false
   },
   "outputs": [
    {
     "data": {
      "text/html": [
       "<table>\n",
       "<thead><tr><th scope=col>name</th><th scope=col>school_rating</th><th scope=col>size</th><th scope=col>reduced_lunch</th><th scope=col>state_percentile_16</th><th scope=col>state_percentile_15</th><th scope=col>stu_teach_ratio</th><th scope=col>school_type</th><th scope=col>avg_score_15</th><th scope=col>avg_score_16</th><th scope=col>full_time_teachers</th><th scope=col>percent_black</th><th scope=col>percent_white</th><th scope=col>percent_asian</th><th scope=col>percent_hispanic</th></tr></thead>\n",
       "<tbody>\n",
       "\t<tr><td>Allendale Elementary School   </td><td>5                             </td><td>851                           </td><td>10                            </td><td>90.2                          </td><td>95.8                          </td><td>15.7                          </td><td>Public                        </td><td>89.4                          </td><td>85.2                          </td><td>54                            </td><td> 2.9                          </td><td>85.5                          </td><td>1.6                           </td><td> 5.6                          </td></tr>\n",
       "\t<tr><td>Anderson Elementary           </td><td>2                             </td><td>412                           </td><td>71                            </td><td>32.8                          </td><td>37.3                          </td><td>12.8                          </td><td>Public                        </td><td>43.0                          </td><td>38.3                          </td><td>32                            </td><td> 3.9                          </td><td>86.7                          </td><td>1.0                           </td><td> 4.9                          </td></tr>\n",
       "\t<tr><td>Avoca Elementary              </td><td>4                             </td><td>482                           </td><td>43                            </td><td>78.4                          </td><td>83.6                          </td><td>16.6                          </td><td>Public                        </td><td>75.7                          </td><td>73.0                          </td><td>29                            </td><td> 1.0                          </td><td>91.5                          </td><td>1.2                           </td><td> 4.4                          </td></tr>\n",
       "\t<tr><td>Bailey Middle                 </td><td>0                             </td><td>394                           </td><td>91                            </td><td> 1.6                          </td><td> 1.0                          </td><td>13.1                          </td><td>Public Magnet                 </td><td> 2.1                          </td><td> 4.4                          </td><td>30                            </td><td>80.7                          </td><td>11.7                          </td><td>2.3                           </td><td> 4.3                          </td></tr>\n",
       "\t<tr><td>Barfield Elementary           </td><td>4                             </td><td>948                           </td><td>26                            </td><td>85.3                          </td><td>89.2                          </td><td>14.8                          </td><td>Public                        </td><td>81.3                          </td><td>79.6                          </td><td>64                            </td><td>11.8                          </td><td>71.2                          </td><td>7.1                           </td><td> 6.0                          </td></tr>\n",
       "\t<tr><td>Barkers Mill Elementary School</td><td>4                             </td><td>893                           </td><td>48                            </td><td>78.1                          </td><td>76.4                          </td><td>13.9                          </td><td>Public                        </td><td>69.4                          </td><td>72.3                          </td><td>64                            </td><td>28.6                          </td><td>39.9                          </td><td>2.2                           </td><td>17.8                          </td></tr>\n",
       "</tbody>\n",
       "</table>\n"
      ],
      "text/latex": [
       "\\begin{tabular}{r|lllllllllllllll}\n",
       " name & school\\_rating & size & reduced\\_lunch & state\\_percentile\\_16 & state\\_percentile\\_15 & stu\\_teach\\_ratio & school\\_type & avg\\_score\\_15 & avg\\_score\\_16 & full\\_time\\_teachers & percent\\_black & percent\\_white & percent\\_asian & percent\\_hispanic\\\\\n",
       "\\hline\n",
       "\t Allendale Elementary School    & 5                              & 851                            & 10                             & 90.2                           & 95.8                           & 15.7                           & Public                         & 89.4                           & 85.2                           & 54                             &  2.9                           & 85.5                           & 1.6                            &  5.6                          \\\\\n",
       "\t Anderson Elementary            & 2                              & 412                            & 71                             & 32.8                           & 37.3                           & 12.8                           & Public                         & 43.0                           & 38.3                           & 32                             &  3.9                           & 86.7                           & 1.0                            &  4.9                          \\\\\n",
       "\t Avoca Elementary               & 4                              & 482                            & 43                             & 78.4                           & 83.6                           & 16.6                           & Public                         & 75.7                           & 73.0                           & 29                             &  1.0                           & 91.5                           & 1.2                            &  4.4                          \\\\\n",
       "\t Bailey Middle                  & 0                              & 394                            & 91                             &  1.6                           &  1.0                           & 13.1                           & Public Magnet                  &  2.1                           &  4.4                           & 30                             & 80.7                           & 11.7                           & 2.3                            &  4.3                          \\\\\n",
       "\t Barfield Elementary            & 4                              & 948                            & 26                             & 85.3                           & 89.2                           & 14.8                           & Public                         & 81.3                           & 79.6                           & 64                             & 11.8                           & 71.2                           & 7.1                            &  6.0                          \\\\\n",
       "\t Barkers Mill Elementary School & 4                              & 893                            & 48                             & 78.1                           & 76.4                           & 13.9                           & Public                         & 69.4                           & 72.3                           & 64                             & 28.6                           & 39.9                           & 2.2                            & 17.8                          \\\\\n",
       "\\end{tabular}\n"
      ],
      "text/markdown": [
       "\n",
       "name | school_rating | size | reduced_lunch | state_percentile_16 | state_percentile_15 | stu_teach_ratio | school_type | avg_score_15 | avg_score_16 | full_time_teachers | percent_black | percent_white | percent_asian | percent_hispanic | \n",
       "|---|---|---|---|---|---|\n",
       "| Allendale Elementary School    | 5                              | 851                            | 10                             | 90.2                           | 95.8                           | 15.7                           | Public                         | 89.4                           | 85.2                           | 54                             |  2.9                           | 85.5                           | 1.6                            |  5.6                           | \n",
       "| Anderson Elementary            | 2                              | 412                            | 71                             | 32.8                           | 37.3                           | 12.8                           | Public                         | 43.0                           | 38.3                           | 32                             |  3.9                           | 86.7                           | 1.0                            |  4.9                           | \n",
       "| Avoca Elementary               | 4                              | 482                            | 43                             | 78.4                           | 83.6                           | 16.6                           | Public                         | 75.7                           | 73.0                           | 29                             |  1.0                           | 91.5                           | 1.2                            |  4.4                           | \n",
       "| Bailey Middle                  | 0                              | 394                            | 91                             |  1.6                           |  1.0                           | 13.1                           | Public Magnet                  |  2.1                           |  4.4                           | 30                             | 80.7                           | 11.7                           | 2.3                            |  4.3                           | \n",
       "| Barfield Elementary            | 4                              | 948                            | 26                             | 85.3                           | 89.2                           | 14.8                           | Public                         | 81.3                           | 79.6                           | 64                             | 11.8                           | 71.2                           | 7.1                            |  6.0                           | \n",
       "| Barkers Mill Elementary School | 4                              | 893                            | 48                             | 78.1                           | 76.4                           | 13.9                           | Public                         | 69.4                           | 72.3                           | 64                             | 28.6                           | 39.9                           | 2.2                            | 17.8                           | \n",
       "\n",
       "\n"
      ],
      "text/plain": [
       "  name                           school_rating size reduced_lunch\n",
       "1 Allendale Elementary School    5             851  10           \n",
       "2 Anderson Elementary            2             412  71           \n",
       "3 Avoca Elementary               4             482  43           \n",
       "4 Bailey Middle                  0             394  91           \n",
       "5 Barfield Elementary            4             948  26           \n",
       "6 Barkers Mill Elementary School 4             893  48           \n",
       "  state_percentile_16 state_percentile_15 stu_teach_ratio school_type  \n",
       "1 90.2                95.8                15.7            Public       \n",
       "2 32.8                37.3                12.8            Public       \n",
       "3 78.4                83.6                16.6            Public       \n",
       "4  1.6                 1.0                13.1            Public Magnet\n",
       "5 85.3                89.2                14.8            Public       \n",
       "6 78.1                76.4                13.9            Public       \n",
       "  avg_score_15 avg_score_16 full_time_teachers percent_black percent_white\n",
       "1 89.4         85.2         54                  2.9          85.5         \n",
       "2 43.0         38.3         32                  3.9          86.7         \n",
       "3 75.7         73.0         29                  1.0          91.5         \n",
       "4  2.1          4.4         30                 80.7          11.7         \n",
       "5 81.3         79.6         64                 11.8          71.2         \n",
       "6 69.4         72.3         64                 28.6          39.9         \n",
       "  percent_asian percent_hispanic\n",
       "1 1.6            5.6            \n",
       "2 1.0            4.9            \n",
       "3 1.2            4.4            \n",
       "4 2.3            4.3            \n",
       "5 7.1            6.0            \n",
       "6 2.2           17.8            "
      ]
     },
     "metadata": {},
     "output_type": "display_data"
    }
   ],
   "source": [
    "head(df)"
   ]
  },
  {
   "cell_type": "markdown",
   "metadata": {},
   "source": [
    "## ModelTracker default options"
   ]
  },
  {
   "cell_type": "markdown",
   "metadata": {},
   "source": [
    "By default, ModelTracker records your model's formula, the execution timestamp, the username, and the model's class name."
   ]
  },
  {
   "cell_type": "code",
   "execution_count": 5,
   "metadata": {
    "collapsed": false,
    "scrolled": false
   },
   "outputs": [
    {
     "data": {
      "text/plain": [
       "\n",
       "Call:\n",
       "lm(formula = avg_score_16 ~ stu_teach_ratio + school_type, data = df)\n",
       "\n",
       "Residuals:\n",
       "    Min      1Q  Median      3Q     Max \n",
       "-64.817 -18.583   1.753  21.543  59.687 \n",
       "\n",
       "Coefficients:\n",
       "                           Estimate Std. Error t value Pr(>|t|)    \n",
       "(Intercept)                  5.3802     8.6094   0.625 0.532438    \n",
       "stu_teach_ratio              3.5258     0.5578   6.321 8.10e-10 ***\n",
       "school_typePublic Charter    5.7192     9.3476   0.612 0.541051    \n",
       "school_typePublic Magnet   -15.5177     4.1378  -3.750 0.000207 ***\n",
       "school_typePublic Virtual -318.9387    59.4852  -5.362 1.52e-07 ***\n",
       "---\n",
       "Signif. codes:  0 ‘***’ 0.001 ‘**’ 0.01 ‘*’ 0.05 ‘.’ 0.1 ‘ ’ 1\n",
       "\n",
       "Residual standard error: 26.08 on 342 degrees of freedom\n",
       "Multiple R-squared:  0.1403,\tAdjusted R-squared:  0.1303 \n",
       "F-statistic: 13.96 on 4 and 342 DF,  p-value: 1.47e-10\n"
      ]
     },
     "metadata": {},
     "output_type": "display_data"
    },
    {
     "data": {
      "text/html": [
       "<table>\n",
       "<thead><tr><th scope=col>formula</th><th scope=col>datetime</th><th scope=col>username</th><th scope=col>className</th></tr></thead>\n",
       "<tbody>\n",
       "\t<tr><td>avg_score_16 ~ stu_teach_ratio + school_type</td><td>2017-06-29 21:34:18                         </td><td>tdobbins                                    </td><td>lm                                          </td></tr>\n",
       "</tbody>\n",
       "</table>\n"
      ],
      "text/latex": [
       "\\begin{tabular}{r|llll}\n",
       " formula & datetime & username & className\\\\\n",
       "\\hline\n",
       "\t avg\\_score\\_16 \\textasciitilde{} stu\\_teach\\_ratio + school\\_type & 2017-06-29 21:34:18                                                     & tdobbins                                                                & lm                                                                     \\\\\n",
       "\\end{tabular}\n"
      ],
      "text/markdown": [
       "\n",
       "formula | datetime | username | className | \n",
       "|---|\n",
       "| avg_score_16 ~ stu_teach_ratio + school_type | 2017-06-29 21:34:18                          | tdobbins                                     | lm                                           | \n",
       "\n",
       "\n"
      ],
      "text/plain": [
       "  formula                                      datetime            username\n",
       "1 avg_score_16 ~ stu_teach_ratio + school_type 2017-06-29 21:34:18 tdobbins\n",
       "  className\n",
       "1 lm       "
      ]
     },
     "metadata": {},
     "output_type": "display_data"
    }
   ],
   "source": [
    "model.lm <- lm(avg_score_16 ~ stu_teach_ratio + school_type, data=df)\n",
    "\n",
    "summary(model.lm)\n",
    "\n",
    "track(model.lm)"
   ]
  },
  {
   "cell_type": "markdown",
   "metadata": {},
   "source": [
    "Details about the models you have tested are stored in `MODELS`."
   ]
  },
  {
   "cell_type": "code",
   "execution_count": 6,
   "metadata": {
    "collapsed": false,
    "scrolled": true
   },
   "outputs": [
    {
     "data": {
      "text/html": [
       "<table>\n",
       "<thead><tr><th scope=col>formula</th><th scope=col>datetime</th><th scope=col>username</th><th scope=col>className</th></tr></thead>\n",
       "<tbody>\n",
       "\t<tr><td>avg_score_16 ~ stu_teach_ratio + school_type</td><td>2017-06-29 21:34:18                         </td><td>tdobbins                                    </td><td>lm                                          </td></tr>\n",
       "</tbody>\n",
       "</table>\n"
      ],
      "text/latex": [
       "\\begin{tabular}{r|llll}\n",
       " formula & datetime & username & className\\\\\n",
       "\\hline\n",
       "\t avg\\_score\\_16 \\textasciitilde{} stu\\_teach\\_ratio + school\\_type & 2017-06-29 21:34:18                                                     & tdobbins                                                                & lm                                                                     \\\\\n",
       "\\end{tabular}\n"
      ],
      "text/markdown": [
       "\n",
       "formula | datetime | username | className | \n",
       "|---|\n",
       "| avg_score_16 ~ stu_teach_ratio + school_type | 2017-06-29 21:34:18                          | tdobbins                                     | lm                                           | \n",
       "\n",
       "\n"
      ],
      "text/plain": [
       "  formula                                      datetime            username\n",
       "1 avg_score_16 ~ stu_teach_ratio + school_type 2017-06-29 21:34:18 tdobbins\n",
       "  className\n",
       "1 lm       "
      ]
     },
     "metadata": {},
     "output_type": "display_data"
    }
   ],
   "source": [
    "MODELS"
   ]
  },
  {
   "cell_type": "markdown",
   "metadata": {},
   "source": [
    "## Metrics"
   ]
  },
  {
   "cell_type": "markdown",
   "metadata": {},
   "source": [
    "`track` accepts an argument called `metrics`. This has to be an attribute that exists on your model's summary object. To extract it, put the attribute name in a list of strings like\n",
    "\n",
    "> `list('r.squared', 'sigma')`"
   ]
  },
  {
   "cell_type": "markdown",
   "metadata": {},
   "source": [
    "We'll also add another variable (`state_percentile_15`) to our formula to display how ModelTracker keeps track of the formulas."
   ]
  },
  {
   "cell_type": "code",
   "execution_count": 7,
   "metadata": {
    "collapsed": false
   },
   "outputs": [
    {
     "data": {
      "text/plain": [
       "\n",
       "Call:\n",
       "lm(formula = avg_score_16 ~ stu_teach_ratio + school_type + state_percentile_15, \n",
       "    data = df)\n",
       "\n",
       "Residuals:\n",
       "    Min      1Q  Median      3Q     Max \n",
       "-33.660  -5.444   0.069   5.711  41.670 \n",
       "\n",
       "Coefficients:\n",
       "                          Estimate Std. Error t value Pr(>|t|)    \n",
       "(Intercept)                 8.5299     3.1113   2.742  0.00644 ** \n",
       "stu_teach_ratio             0.1617     0.2132   0.759  0.44864    \n",
       "school_typePublic Charter  -3.1549     3.7291  -0.846  0.39814    \n",
       "school_typePublic Magnet   -2.0058     1.4565  -1.377  0.16939    \n",
       "school_typePublic Virtual   1.3703    22.3127   0.061  0.95107    \n",
       "state_percentile_15         0.7992     0.0161  49.651  < 2e-16 ***\n",
       "---\n",
       "Signif. codes:  0 ‘***’ 0.001 ‘**’ 0.01 ‘*’ 0.05 ‘.’ 0.1 ‘ ’ 1\n",
       "\n",
       "Residual standard error: 9.005 on 335 degrees of freedom\n",
       "  (6 observations deleted due to missingness)\n",
       "Multiple R-squared:  0.8972,\tAdjusted R-squared:  0.8956 \n",
       "F-statistic: 584.5 on 5 and 335 DF,  p-value: < 2.2e-16\n"
      ]
     },
     "metadata": {},
     "output_type": "display_data"
    },
    {
     "data": {
      "text/html": [
       "<table>\n",
       "<thead><tr><th scope=col>formula</th><th scope=col>datetime</th><th scope=col>username</th><th scope=col>className</th><th scope=col>r.squared</th><th scope=col>sigma</th></tr></thead>\n",
       "<tbody>\n",
       "\t<tr><td>avg_score_16 ~ stu_teach_ratio + school_type + state_percentile_15</td><td>2017-06-29 21:34:23                                               </td><td>tdobbins                                                          </td><td>lm                                                                </td><td>0.8971659                                                         </td><td>9.00481                                                           </td></tr>\n",
       "</tbody>\n",
       "</table>\n"
      ],
      "text/latex": [
       "\\begin{tabular}{r|llllll}\n",
       " formula & datetime & username & className & r.squared & sigma\\\\\n",
       "\\hline\n",
       "\t avg\\_score\\_16 \\textasciitilde{} stu\\_teach\\_ratio + school\\_type + state\\_percentile\\_15 & 2017-06-29 21:34:23                                                                               & tdobbins                                                                                          & lm                                                                                                & 0.8971659                                                                                         & 9.00481                                                                                          \\\\\n",
       "\\end{tabular}\n"
      ],
      "text/markdown": [
       "\n",
       "formula | datetime | username | className | r.squared | sigma | \n",
       "|---|\n",
       "| avg_score_16 ~ stu_teach_ratio + school_type + state_percentile_15 | 2017-06-29 21:34:23                                                | tdobbins                                                           | lm                                                                 | 0.8971659                                                          | 9.00481                                                            | \n",
       "\n",
       "\n"
      ],
      "text/plain": [
       "  formula                                                           \n",
       "1 avg_score_16 ~ stu_teach_ratio + school_type + state_percentile_15\n",
       "  datetime            username className r.squared sigma  \n",
       "1 2017-06-29 21:34:23 tdobbins lm        0.8971659 9.00481"
      ]
     },
     "metadata": {},
     "output_type": "display_data"
    }
   ],
   "source": [
    "model.lm <- lm(avg_score_16 ~ stu_teach_ratio + school_type + state_percentile_15, data=df)\n",
    "\n",
    "metrics <- list('r.squared', 'sigma')\n",
    "\n",
    "summary(model.lm)\n",
    "track(model.lm, metrics=metrics)"
   ]
  },
  {
   "cell_type": "markdown",
   "metadata": {},
   "source": [
    "Notice our `MODELS` object now contains two additional metrics, r.squared and sigma. The first model, since it wasn't tracking those metrics, shows NA for those values."
   ]
  },
  {
   "cell_type": "code",
   "execution_count": 8,
   "metadata": {
    "collapsed": false
   },
   "outputs": [
    {
     "data": {
      "text/html": [
       "<table>\n",
       "<thead><tr><th></th><th scope=col>formula</th><th scope=col>datetime</th><th scope=col>username</th><th scope=col>className</th><th scope=col>r.squared</th><th scope=col>sigma</th></tr></thead>\n",
       "<tbody>\n",
       "\t<tr><th scope=row>2</th><td>avg_score_16 ~ stu_teach_ratio + school_type + state_percentile_15</td><td>2017-06-29 21:34:23                                               </td><td>tdobbins                                                          </td><td>lm                                                                </td><td>0.8971659                                                         </td><td>9.00481                                                           </td></tr>\n",
       "\t<tr><th scope=row>1</th><td>avg_score_16 ~ stu_teach_ratio + school_type                      </td><td>2017-06-29 21:34:18                                               </td><td>tdobbins                                                          </td><td>lm                                                                </td><td>       NA                                                         </td><td>     NA                                                           </td></tr>\n",
       "</tbody>\n",
       "</table>\n"
      ],
      "text/latex": [
       "\\begin{tabular}{r|llllll}\n",
       "  & formula & datetime & username & className & r.squared & sigma\\\\\n",
       "\\hline\n",
       "\t2 & avg\\_score\\_16 \\textasciitilde{} stu\\_teach\\_ratio + school\\_type + state\\_percentile\\_15 & 2017-06-29 21:34:23                                                                               & tdobbins                                                                                          & lm                                                                                                & 0.8971659                                                                                         & 9.00481                                                                                          \\\\\n",
       "\t1 & avg\\_score\\_16 \\textasciitilde{} stu\\_teach\\_ratio + school\\_type                       & 2017-06-29 21:34:18                                                                           & tdobbins                                                                                      & lm                                                                                            &        NA                                                                                     &      NA                                                                                      \\\\\n",
       "\\end{tabular}\n"
      ],
      "text/markdown": [
       "\n",
       "| <!--/--> | formula | datetime | username | className | r.squared | sigma | \n",
       "|---|---|\n",
       "| 2 | avg_score_16 ~ stu_teach_ratio + school_type + state_percentile_15 | 2017-06-29 21:34:23                                                | tdobbins                                                           | lm                                                                 | 0.8971659                                                          | 9.00481                                                            | \n",
       "| 1 | avg_score_16 ~ stu_teach_ratio + school_type                       | 2017-06-29 21:34:18                                                | tdobbins                                                           | lm                                                                 |        NA                                                          |      NA                                                            | \n",
       "\n",
       "\n"
      ],
      "text/plain": [
       "  formula                                                           \n",
       "2 avg_score_16 ~ stu_teach_ratio + school_type + state_percentile_15\n",
       "1 avg_score_16 ~ stu_teach_ratio + school_type                      \n",
       "  datetime            username className r.squared sigma  \n",
       "2 2017-06-29 21:34:23 tdobbins lm        0.8971659 9.00481\n",
       "1 2017-06-29 21:34:18 tdobbins lm               NA      NA"
      ]
     },
     "metadata": {},
     "output_type": "display_data"
    }
   ],
   "source": [
    "MODELS"
   ]
  },
  {
   "cell_type": "markdown",
   "metadata": {},
   "source": [
    "## Custom functions"
   ]
  },
  {
   "cell_type": "markdown",
   "metadata": {},
   "source": [
    "ModelTracker also accepts an argument called `customFunctions`. This is for defining custom functions that accept the model as input and return a single value. Be sure that the functions only accept one argument, your model. \n",
    "\n",
    "For example, I define two functions, `getr2` and `getFstat`. "
   ]
  },
  {
   "cell_type": "code",
   "execution_count": 9,
   "metadata": {
    "collapsed": true
   },
   "outputs": [],
   "source": [
    "getr2 <- function(model){\n",
    "    return(summary(model)$r.squared);\n",
    "}\n",
    "\n",
    "getFstat <- function(model){\n",
    "    return(summary(model)$fstatistic[['value']])\n",
    "}"
   ]
  },
  {
   "cell_type": "markdown",
   "metadata": {},
   "source": [
    "Now I will create a list and put my custom functions in them then pass them to `track`. Note, you must specify them as strings."
   ]
  },
  {
   "cell_type": "code",
   "execution_count": 10,
   "metadata": {
    "collapsed": false,
    "scrolled": true
   },
   "outputs": [
    {
     "data": {
      "text/plain": [
       "\n",
       "Call:\n",
       "lm(formula = avg_score_16 ~ reduced_lunch + poly(size, 2), data = df)\n",
       "\n",
       "Residuals:\n",
       "    Min      1Q  Median      3Q     Max \n",
       "-45.168 -10.779  -1.083  10.450  58.887 \n",
       "\n",
       "Coefficients:\n",
       "                Estimate Std. Error t value Pr(>|t|)    \n",
       "(Intercept)    103.22970    1.97690  52.218  < 2e-16 ***\n",
       "reduced_lunch   -0.91846    0.03541 -25.935  < 2e-16 ***\n",
       "poly(size, 2)1 -46.38692   16.66492  -2.784  0.00568 ** \n",
       "poly(size, 2)2 -19.69939   16.12389  -1.222  0.22264    \n",
       "---\n",
       "Signif. codes:  0 ‘***’ 0.001 ‘**’ 0.01 ‘*’ 0.05 ‘.’ 0.1 ‘ ’ 1\n",
       "\n",
       "Residual standard error: 16 on 343 degrees of freedom\n",
       "Multiple R-squared:  0.6756,\tAdjusted R-squared:  0.6728 \n",
       "F-statistic: 238.1 on 3 and 343 DF,  p-value: < 2.2e-16\n"
      ]
     },
     "metadata": {},
     "output_type": "display_data"
    },
    {
     "data": {
      "text/html": [
       "<table>\n",
       "<thead><tr><th scope=col>formula</th><th scope=col>datetime</th><th scope=col>username</th><th scope=col>className</th><th scope=col>getr2</th><th scope=col>getFstat</th></tr></thead>\n",
       "<tbody>\n",
       "\t<tr><td>avg_score_16 ~ reduced_lunch + poly(size, 2)</td><td>2017-06-29 21:38:37                         </td><td>tdobbins                                    </td><td>lm                                          </td><td>0.6756111                                   </td><td>238.1242                                    </td></tr>\n",
       "</tbody>\n",
       "</table>\n"
      ],
      "text/latex": [
       "\\begin{tabular}{r|llllll}\n",
       " formula & datetime & username & className & getr2 & getFstat\\\\\n",
       "\\hline\n",
       "\t avg\\_score\\_16 \\textasciitilde{} reduced\\_lunch + poly(size, 2) & 2017-06-29 21:38:37                                                 & tdobbins                                                            & lm                                                                  & 0.6756111                                                           & 238.1242                                                           \\\\\n",
       "\\end{tabular}\n"
      ],
      "text/markdown": [
       "\n",
       "formula | datetime | username | className | getr2 | getFstat | \n",
       "|---|\n",
       "| avg_score_16 ~ reduced_lunch + poly(size, 2) | 2017-06-29 21:38:37                          | tdobbins                                     | lm                                           | 0.6756111                                    | 238.1242                                     | \n",
       "\n",
       "\n"
      ],
      "text/plain": [
       "  formula                                      datetime            username\n",
       "1 avg_score_16 ~ reduced_lunch + poly(size, 2) 2017-06-29 21:38:37 tdobbins\n",
       "  className getr2     getFstat\n",
       "1 lm        0.6756111 238.1242"
      ]
     },
     "metadata": {},
     "output_type": "display_data"
    }
   ],
   "source": [
    "model.lm <- lm(avg_score_16 ~ reduced_lunch + poly(size, 2), data=df)\n",
    "\n",
    "summary(model.lm)\n",
    "\n",
    "customFunctions <- list('getr2', 'getFstat')\n",
    "track(model.lm, customFunctions=customFunctions)"
   ]
  },
  {
   "cell_type": "markdown",
   "metadata": {},
   "source": [
    "Notice that the `MODELS` object sorts your models by time in descending order."
   ]
  },
  {
   "cell_type": "code",
   "execution_count": 11,
   "metadata": {
    "collapsed": false
   },
   "outputs": [
    {
     "data": {
      "text/html": [
       "<table>\n",
       "<thead><tr><th></th><th scope=col>formula</th><th scope=col>datetime</th><th scope=col>username</th><th scope=col>className</th><th scope=col>r.squared</th><th scope=col>sigma</th><th scope=col>getr2</th><th scope=col>getFstat</th></tr></thead>\n",
       "<tbody>\n",
       "\t<tr><th scope=row>3</th><td>avg_score_16 ~ reduced_lunch + poly(size, 2)                      </td><td>2017-06-29 21:38:37                                               </td><td>tdobbins                                                          </td><td>lm                                                                </td><td>       NA                                                         </td><td>     NA                                                           </td><td>0.6756111                                                         </td><td>238.1242                                                          </td></tr>\n",
       "\t<tr><th scope=row>1</th><td>avg_score_16 ~ stu_teach_ratio + school_type + state_percentile_15</td><td>2017-06-29 21:34:23                                               </td><td>tdobbins                                                          </td><td>lm                                                                </td><td>0.8971659                                                         </td><td>9.00481                                                           </td><td>       NA                                                         </td><td>      NA                                                          </td></tr>\n",
       "\t<tr><th scope=row>2</th><td>avg_score_16 ~ stu_teach_ratio + school_type                      </td><td>2017-06-29 21:34:18                                               </td><td>tdobbins                                                          </td><td>lm                                                                </td><td>       NA                                                         </td><td>     NA                                                           </td><td>       NA                                                         </td><td>      NA                                                          </td></tr>\n",
       "</tbody>\n",
       "</table>\n"
      ],
      "text/latex": [
       "\\begin{tabular}{r|llllllll}\n",
       "  & formula & datetime & username & className & r.squared & sigma & getr2 & getFstat\\\\\n",
       "\\hline\n",
       "\t3 & avg\\_score\\_16 \\textasciitilde{} reduced\\_lunch + poly(size, 2)                       & 2017-06-29 21:38:37                                                                       & tdobbins                                                                                  & lm                                                                                        &        NA                                                                                 &      NA                                                                                   & 0.6756111                                                                                 & 238.1242                                                                                 \\\\\n",
       "\t1 & avg\\_score\\_16 \\textasciitilde{} stu\\_teach\\_ratio + school\\_type + state\\_percentile\\_15 & 2017-06-29 21:34:23                                                                               & tdobbins                                                                                          & lm                                                                                                & 0.8971659                                                                                         & 9.00481                                                                                           &        NA                                                                                         &       NA                                                                                         \\\\\n",
       "\t2 & avg\\_score\\_16 \\textasciitilde{} stu\\_teach\\_ratio + school\\_type                       & 2017-06-29 21:34:18                                                                           & tdobbins                                                                                      & lm                                                                                            &        NA                                                                                     &      NA                                                                                       &        NA                                                                                     &       NA                                                                                     \\\\\n",
       "\\end{tabular}\n"
      ],
      "text/markdown": [
       "\n",
       "| <!--/--> | formula | datetime | username | className | r.squared | sigma | getr2 | getFstat | \n",
       "|---|---|---|\n",
       "| 3 | avg_score_16 ~ reduced_lunch + poly(size, 2)                       | 2017-06-29 21:38:37                                                | tdobbins                                                           | lm                                                                 |        NA                                                          |      NA                                                            | 0.6756111                                                          | 238.1242                                                           | \n",
       "| 1 | avg_score_16 ~ stu_teach_ratio + school_type + state_percentile_15 | 2017-06-29 21:34:23                                                | tdobbins                                                           | lm                                                                 | 0.8971659                                                          | 9.00481                                                            |        NA                                                          |       NA                                                           | \n",
       "| 2 | avg_score_16 ~ stu_teach_ratio + school_type                       | 2017-06-29 21:34:18                                                | tdobbins                                                           | lm                                                                 |        NA                                                          |      NA                                                            |        NA                                                          |       NA                                                           | \n",
       "\n",
       "\n"
      ],
      "text/plain": [
       "  formula                                                           \n",
       "3 avg_score_16 ~ reduced_lunch + poly(size, 2)                      \n",
       "1 avg_score_16 ~ stu_teach_ratio + school_type + state_percentile_15\n",
       "2 avg_score_16 ~ stu_teach_ratio + school_type                      \n",
       "  datetime            username className r.squared sigma   getr2     getFstat\n",
       "3 2017-06-29 21:38:37 tdobbins lm               NA      NA 0.6756111 238.1242\n",
       "1 2017-06-29 21:34:23 tdobbins lm        0.8971659 9.00481        NA       NA\n",
       "2 2017-06-29 21:34:18 tdobbins lm               NA      NA        NA       NA"
      ]
     },
     "metadata": {},
     "output_type": "display_data"
    }
   ],
   "source": [
    "MODELS"
   ]
  },
  {
   "cell_type": "markdown",
   "metadata": {},
   "source": [
    "## Custom metrics"
   ]
  },
  {
   "cell_type": "markdown",
   "metadata": {},
   "source": [
    "Finally, my favorite. This feature lets you track any metric by calculating it before running `track` and then just inputting the value into our `track` call.\n",
    "\n",
    "For instance, here I calculate `pseudoR2` and retrieve the coefficient for `reduced_lunch`. Then I add them to `track` using whatever names I want; here I use `pseudoR2` and `reducedLunchCoef`."
   ]
  },
  {
   "cell_type": "code",
   "execution_count": 12,
   "metadata": {
    "collapsed": false
   },
   "outputs": [
    {
     "data": {
      "text/plain": [
       "\n",
       "Call:\n",
       "glm(formula = avg_score_16 ~ I(reduced_lunch^2) + sqrt(size) + \n",
       "    factor(school_type), data = df)\n",
       "\n",
       "Deviance Residuals: \n",
       "    Min       1Q   Median       3Q      Max  \n",
       "-45.657   -9.101    0.439    9.698   45.115  \n",
       "\n",
       "Coefficients:\n",
       "                                    Estimate Std. Error t value Pr(>|t|)    \n",
       "(Intercept)                       92.5334745  3.6667864  25.236  < 2e-16 ***\n",
       "I(reduced_lunch^2)                -0.0093298  0.0003373 -27.662  < 2e-16 ***\n",
       "sqrt(size)                        -0.2344695  0.1221849  -1.919   0.0558 .  \n",
       "factor(school_type)Public Charter 33.3718677  5.5360610   6.028 4.31e-09 ***\n",
       "factor(school_type)Public Magnet  -4.7844382  2.4292237  -1.970   0.0497 *  \n",
       "factor(school_type)Public Virtual -4.4385146 15.2299952  -0.291   0.7709    \n",
       "---\n",
       "Signif. codes:  0 ‘***’ 0.001 ‘**’ 0.01 ‘*’ 0.05 ‘.’ 0.1 ‘ ’ 1\n",
       "\n",
       "(Dispersion parameter for gaussian family taken to be 228.2756)\n",
       "\n",
       "    Null deviance: 270663  on 346  degrees of freedom\n",
       "Residual deviance:  77842  on 341  degrees of freedom\n",
       "AIC: 2877.1\n",
       "\n",
       "Number of Fisher Scoring iterations: 2\n"
      ]
     },
     "metadata": {},
     "output_type": "display_data"
    },
    {
     "data": {
      "text/html": [
       "<table>\n",
       "<thead><tr><th scope=col>formula</th><th scope=col>datetime</th><th scope=col>username</th><th scope=col>className</th><th scope=col>pseudoR2</th><th scope=col>reducedLunchCoef</th></tr></thead>\n",
       "<tbody>\n",
       "\t<tr><td>avg_score_16 ~ I(reduced_lunch^2) + sqrt(size) + factor(school_type)</td><td>2017-06-29 21:43:12                                                 </td><td>tdobbins                                                            </td><td>glm                                                                 </td><td>0.7124028                                                           </td><td>-0.009329825                                                        </td></tr>\n",
       "</tbody>\n",
       "</table>\n"
      ],
      "text/latex": [
       "\\begin{tabular}{r|llllll}\n",
       " formula & datetime & username & className & pseudoR2 & reducedLunchCoef\\\\\n",
       "\\hline\n",
       "\t avg\\_score\\_16 \\textasciitilde{} I(reduced\\_lunch\\textasciicircum{}2) + sqrt(size) + factor(school\\_type) & 2017-06-29 21:43:12                                                                                             & tdobbins                                                                                                        & glm                                                                                                             & 0.7124028                                                                                                       & -0.009329825                                                                                                   \\\\\n",
       "\\end{tabular}\n"
      ],
      "text/markdown": [
       "\n",
       "formula | datetime | username | className | pseudoR2 | reducedLunchCoef | \n",
       "|---|\n",
       "| avg_score_16 ~ I(reduced_lunch^2) + sqrt(size) + factor(school_type) | 2017-06-29 21:43:12                                                  | tdobbins                                                             | glm                                                                  | 0.7124028                                                            | -0.009329825                                                         | \n",
       "\n",
       "\n"
      ],
      "text/plain": [
       "  formula                                                             \n",
       "1 avg_score_16 ~ I(reduced_lunch^2) + sqrt(size) + factor(school_type)\n",
       "  datetime            username className pseudoR2  reducedLunchCoef\n",
       "1 2017-06-29 21:43:12 tdobbins glm       0.7124028 -0.009329825    "
      ]
     },
     "metadata": {},
     "output_type": "display_data"
    }
   ],
   "source": [
    "model.glm <- glm(avg_score_16 ~ I(reduced_lunch^2) + sqrt(size) + factor(school_type),\n",
    "                 data=df)\n",
    "\n",
    "summary(model.glm)\n",
    "\n",
    "pseudoR2 <- 1-(model.glm$deviance/model.glm$null.deviance)\n",
    "reducedLunchCoef <- summary(model.glm)$coefficients[2,1]\n",
    "\n",
    "track(model.glm, pseudoR2=pseudoR2, reducedLunchCoef=reducedLunchCoef)"
   ]
  },
  {
   "cell_type": "markdown",
   "metadata": {},
   "source": [
    "Whatever name you pass to `track` will show up as the column name."
   ]
  },
  {
   "cell_type": "code",
   "execution_count": 13,
   "metadata": {
    "collapsed": false
   },
   "outputs": [
    {
     "data": {
      "text/html": [
       "<table>\n",
       "<thead><tr><th></th><th scope=col>formula</th><th scope=col>datetime</th><th scope=col>username</th><th scope=col>className</th><th scope=col>r.squared</th><th scope=col>sigma</th><th scope=col>getr2</th><th scope=col>getFstat</th><th scope=col>pseudoR2</th><th scope=col>reducedLunchCoef</th></tr></thead>\n",
       "<tbody>\n",
       "\t<tr><th scope=row>4</th><td>avg_score_16 ~ I(reduced_lunch^2) + sqrt(size) + factor(school_type)</td><td>2017-06-29 21:43:12                                                 </td><td>tdobbins                                                            </td><td>glm                                                                 </td><td>       NA                                                           </td><td>     NA                                                             </td><td>       NA                                                           </td><td>      NA                                                            </td><td>0.7124028                                                           </td><td>-0.009329825                                                        </td></tr>\n",
       "\t<tr><th scope=row>1</th><td>avg_score_16 ~ reduced_lunch + poly(size, 2)                        </td><td>2017-06-29 21:38:37                                                 </td><td>tdobbins                                                            </td><td>lm                                                                  </td><td>       NA                                                           </td><td>     NA                                                             </td><td>0.6756111                                                           </td><td>238.1242                                                            </td><td>       NA                                                           </td><td>          NA                                                        </td></tr>\n",
       "\t<tr><th scope=row>2</th><td>avg_score_16 ~ stu_teach_ratio + school_type + state_percentile_15  </td><td>2017-06-29 21:34:23                                                 </td><td>tdobbins                                                            </td><td>lm                                                                  </td><td>0.8971659                                                           </td><td>9.00481                                                             </td><td>       NA                                                           </td><td>      NA                                                            </td><td>       NA                                                           </td><td>          NA                                                        </td></tr>\n",
       "\t<tr><th scope=row>3</th><td>avg_score_16 ~ stu_teach_ratio + school_type                        </td><td>2017-06-29 21:34:18                                                 </td><td>tdobbins                                                            </td><td>lm                                                                  </td><td>       NA                                                           </td><td>     NA                                                             </td><td>       NA                                                           </td><td>      NA                                                            </td><td>       NA                                                           </td><td>          NA                                                        </td></tr>\n",
       "</tbody>\n",
       "</table>\n"
      ],
      "text/latex": [
       "\\begin{tabular}{r|llllllllll}\n",
       "  & formula & datetime & username & className & r.squared & sigma & getr2 & getFstat & pseudoR2 & reducedLunchCoef\\\\\n",
       "\\hline\n",
       "\t4 & avg\\_score\\_16 \\textasciitilde{} I(reduced\\_lunch\\textasciicircum{}2) + sqrt(size) + factor(school\\_type) & 2017-06-29 21:43:12                                                                                             & tdobbins                                                                                                        & glm                                                                                                             &        NA                                                                                                       &      NA                                                                                                         &        NA                                                                                                       &       NA                                                                                                        & 0.7124028                                                                                                       & -0.009329825                                                                                                   \\\\\n",
       "\t1 & avg\\_score\\_16 \\textasciitilde{} reduced\\_lunch + poly(size, 2)                         & 2017-06-29 21:38:37                                                                         & tdobbins                                                                                    & lm                                                                                          &        NA                                                                                   &      NA                                                                                     & 0.6756111                                                                                   & 238.1242                                                                                    &        NA                                                                                   &           NA                                                                               \\\\\n",
       "\t2 & avg\\_score\\_16 \\textasciitilde{} stu\\_teach\\_ratio + school\\_type + state\\_percentile\\_15   & 2017-06-29 21:34:23                                                                                 & tdobbins                                                                                            & lm                                                                                                  & 0.8971659                                                                                           & 9.00481                                                                                             &        NA                                                                                           &       NA                                                                                            &        NA                                                                                           &           NA                                                                                       \\\\\n",
       "\t3 & avg\\_score\\_16 \\textasciitilde{} stu\\_teach\\_ratio + school\\_type                         & 2017-06-29 21:34:18                                                                             & tdobbins                                                                                        & lm                                                                                              &        NA                                                                                       &      NA                                                                                         &        NA                                                                                       &       NA                                                                                        &        NA                                                                                       &           NA                                                                                   \\\\\n",
       "\\end{tabular}\n"
      ],
      "text/markdown": [
       "\n",
       "| <!--/--> | formula | datetime | username | className | r.squared | sigma | getr2 | getFstat | pseudoR2 | reducedLunchCoef | \n",
       "|---|---|---|---|\n",
       "| 4 | avg_score_16 ~ I(reduced_lunch^2) + sqrt(size) + factor(school_type) | 2017-06-29 21:43:12                                                  | tdobbins                                                             | glm                                                                  |        NA                                                            |      NA                                                              |        NA                                                            |       NA                                                             | 0.7124028                                                            | -0.009329825                                                         | \n",
       "| 1 | avg_score_16 ~ reduced_lunch + poly(size, 2)                         | 2017-06-29 21:38:37                                                  | tdobbins                                                             | lm                                                                   |        NA                                                            |      NA                                                              | 0.6756111                                                            | 238.1242                                                             |        NA                                                            |           NA                                                         | \n",
       "| 2 | avg_score_16 ~ stu_teach_ratio + school_type + state_percentile_15   | 2017-06-29 21:34:23                                                  | tdobbins                                                             | lm                                                                   | 0.8971659                                                            | 9.00481                                                              |        NA                                                            |       NA                                                             |        NA                                                            |           NA                                                         | \n",
       "| 3 | avg_score_16 ~ stu_teach_ratio + school_type                         | 2017-06-29 21:34:18                                                  | tdobbins                                                             | lm                                                                   |        NA                                                            |      NA                                                              |        NA                                                            |       NA                                                             |        NA                                                            |           NA                                                         | \n",
       "\n",
       "\n"
      ],
      "text/plain": [
       "  formula                                                             \n",
       "4 avg_score_16 ~ I(reduced_lunch^2) + sqrt(size) + factor(school_type)\n",
       "1 avg_score_16 ~ reduced_lunch + poly(size, 2)                        \n",
       "2 avg_score_16 ~ stu_teach_ratio + school_type + state_percentile_15  \n",
       "3 avg_score_16 ~ stu_teach_ratio + school_type                        \n",
       "  datetime            username className r.squared sigma   getr2     getFstat\n",
       "4 2017-06-29 21:43:12 tdobbins glm              NA      NA        NA       NA\n",
       "1 2017-06-29 21:38:37 tdobbins lm               NA      NA 0.6756111 238.1242\n",
       "2 2017-06-29 21:34:23 tdobbins lm        0.8971659 9.00481        NA       NA\n",
       "3 2017-06-29 21:34:18 tdobbins lm               NA      NA        NA       NA\n",
       "  pseudoR2  reducedLunchCoef\n",
       "4 0.7124028 -0.009329825    \n",
       "1        NA           NA    \n",
       "2        NA           NA    \n",
       "3        NA           NA    "
      ]
     },
     "metadata": {},
     "output_type": "display_data"
    }
   ],
   "source": [
    "MODELS"
   ]
  },
  {
   "cell_type": "code",
   "execution_count": null,
   "metadata": {
    "collapsed": true
   },
   "outputs": [],
   "source": []
  }
 ],
 "metadata": {
  "kernelspec": {
   "display_name": "R",
   "language": "R",
   "name": "ir"
  },
  "language_info": {
   "codemirror_mode": "r",
   "file_extension": ".r",
   "mimetype": "text/x-r-source",
   "name": "R",
   "pygments_lexer": "r",
   "version": "3.3.2"
  }
 },
 "nbformat": 4,
 "nbformat_minor": 2
}
