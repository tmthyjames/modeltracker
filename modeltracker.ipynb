{
 "cells": [
  {
   "cell_type": "markdown",
   "metadata": {},
   "source": [
    "## Model-tRacker"
   ]
  },
  {
   "cell_type": "code",
   "execution_count": 1,
   "metadata": {
    "collapsed": true
   },
   "outputs": [],
   "source": [
    "options(repr.matrix.max.cols = 1000)\n",
    "options(repr.matrix.max.rows = 50)\n",
    "options(warn=-1)"
   ]
  },
  {
   "cell_type": "code",
   "execution_count": 7,
   "metadata": {
    "collapsed": true
   },
   "outputs": [],
   "source": [
    "options(scipen=999)"
   ]
  },
  {
   "cell_type": "code",
   "execution_count": 6,
   "metadata": {
    "collapsed": false
   },
   "outputs": [],
   "source": [
    "# library(lme4)\n",
    "library(plyr)\n",
    "library(dplyr)\n",
    "# library(car)\n",
    "# library(caret)\n",
    "library(data.table)"
   ]
  },
  {
   "cell_type": "code",
   "execution_count": 8,
   "metadata": {
    "collapsed": true
   },
   "outputs": [],
   "source": [
    "data <- read.csv(\"/Users/tdobbins/Documents/TheGeneral/Projects/PriceElasticity/total_premium_data.csv\", nrows=2000)"
   ]
  },
  {
   "cell_type": "code",
   "execution_count": 10,
   "metadata": {
    "collapsed": false
   },
   "outputs": [],
   "source": [
    "columns <- c('QUOTENUM','DriversOnQuote','DistributionMethod', 'DsStarLevel', 'NamedInsuredAge',\n",
    "             'NamedInsuredDriverPoints','NamedInsuredMaritalStatus','QuotedPremium',\n",
    "             'RateBookCode','RateState','TermLength','VehiclesOnQuote','VehiclesWithBI',\n",
    "             'VehiclesWithFullCoverage','TerritoryCode', 'TransferNormIndicator','COVERAGE',\n",
    "             'WRITTEN','DEDUCTIBLE','LIMIT','AUYEAR','FULL_COV','ISO_COV_SYMBOL','DRGEN',\n",
    "             'YEARS_EXP','CREDIT_SC','DRNUM','DsDwelling')\n",
    "names(data) <- columns"
   ]
  },
  {
   "cell_type": "code",
   "execution_count": 11,
   "metadata": {
    "collapsed": true
   },
   "outputs": [],
   "source": [
    "set.seed(321)\n",
    "data <- data[sample(nrow(data)),]"
   ]
  },
  {
   "cell_type": "code",
   "execution_count": 12,
   "metadata": {
    "collapsed": true
   },
   "outputs": [],
   "source": [
    "data$AnnualizedQuotedPremium <- ifelse(data$TermLength==12, data$QuotedPremium*1, data$QuotedPremium*2);\n",
    "data$NamedInsuredAgeGroup <- ifelse(\n",
    "    data$NamedInsuredAge <= 25, 0, ifelse(\n",
    "        between(data$NamedInsuredAge, 25, 39, incbound=TRUE), 1, ifelse(\n",
    "            between(data$NamedInsuredAge, 40, 59, incbound=TRUE), 2, 3\n",
    "        )\n",
    "    )\n",
    ");\n",
    "data$AUYEAR <- ifelse(data$AUYEAR <= 1980, 1980, data$AUYEAR);\n",
    "data$twentyOrUnder <- ifelse(data$NamedInsuredAge <=20, TRUE, FALSE);\n",
    "data$ISO_CODE_GROUP <- substr(data$ISO_COV_SYMBOL, 1, 1)\n",
    "data$maritalStatusFlag <- ifelse(data$NamedInsuredMaritalStatus=='Married', 'Married', 'Other');\n",
    "data$multiCarFlag <- ifelse(data$VehiclesOnQuote > 1, TRUE, FALSE);\n",
    "data$distMethodBin <- ifelse(data$DistributionMethod %in% c('I', 'G', 'R'), data$DistributionMethod, 'O');\n",
    "data$LIMIT <- trimws(data$LIMIT)\n",
    "\n",
    "lessThan25 <- c('25', '25/50', '15/30', '20', '10',\n",
    "                '5', '10000', '15', '20000', '20/40',\n",
    "                '3000', '2500', '10/20', '15000', '4500', '5000');\n",
    "between26_50 <- c('50', '30/60', '50000', '30000', '25/65', '50/100');\n",
    "greaterThan50 <- c('100', '100/300');\n",
    "\n",
    "data$LIMIT[data$LIMIT %in% lessThan25] <- '<=25';\n",
    "data$LIMIT[data$LIMIT %in% between26_50] <- '26-50';\n",
    "data$LIMIT[data$LIMIT %in% greaterThan50] <- '51+';\n",
    "data$LIMIT[data$LIMIT == '0'] <- '0';\n",
    "\n",
    "data$HomeOwner <- ifelse(is.na(data$DsDwelling), FALSE, TRUE)\n",
    "\n",
    "data$starLevelStr <- ifelse(!is.na(data$DsStarLevel), as.character(data$DsStarLevel), 'N/A');\n",
    "data$DsStarLevel[is.na(data$DsStarLevel)] <- 0;\n",
    "data$starLevelNotNA <- ifelse(!is.na(data$DsStarLevel), data$DsStarLevel, 0);\n",
    "\n",
    "data$DRGEN <- ifelse(\n",
    "    is.na(data$DRGEN), 'Unknown', data$DRGEN\n",
    ")\n"
   ]
  },
  {
   "cell_type": "code",
   "execution_count": 13,
   "metadata": {
    "collapsed": true
   },
   "outputs": [
    {
     "ename": "ERROR",
     "evalue": "Error in eval(expr, envir, enclos): could not find function \"createFolds\"\n",
     "output_type": "error",
     "traceback": [
      "Error in eval(expr, envir, enclos): could not find function \"createFolds\"\nTraceback:\n"
     ]
    }
   ],
   "source": [
    "kfolds <- createFolds(data, k=10, list=T, returnTrain=F);\n",
    "names(kfolds)[1] <- \"train\";"
   ]
  },
  {
   "cell_type": "code",
   "execution_count": 14,
   "metadata": {
    "collapsed": true
   },
   "outputs": [],
   "source": [
    "sample <- sample.int(n=nrow(data), size=floor(.3*nrow(data)), replace=F)\n",
    "train <- data[sample,]\n",
    "test <- data[-sample,]"
   ]
  },
  {
   "cell_type": "code",
   "execution_count": 341,
   "metadata": {
    "collapsed": true
   },
   "outputs": [],
   "source": [
    "getr2 <- function(model){\n",
    "    return(summary(model)$r.squared)\n",
    "}\n",
    "\n",
    "getpr2 <- function(model){\n",
    "    return(model.glm$rank);\n",
    "}\n"
   ]
  },
  {
   "cell_type": "code",
   "execution_count": 382,
   "metadata": {
    "collapsed": false
   },
   "outputs": [
    {
     "name": "stdout",
     "output_type": "stream",
     "text": [
      "[1] \"it\"\n"
     ]
    }
   ],
   "source": [
    "if (TRUE == TRUE){\n",
    "    print('it')\n",
    "    }"
   ]
  },
  {
   "cell_type": "code",
   "execution_count": null,
   "metadata": {
    "collapsed": true
   },
   "outputs": [],
   "source": []
  },
  {
   "cell_type": "code",
   "execution_count": 535,
   "metadata": {
    "collapsed": true
   },
   "outputs": [],
   "source": [
    "pvc <- function(model, metrics=NULL, customMetrics=NULL, ...){\n",
    "    \n",
    "    kwargs <- list(...);\n",
    "    \n",
    "    environmentVars <- list(\n",
    "        datetime = format(Sys.time(), \"%Y-%m-%d %H:%M:%S\"),\n",
    "        username = Sys.info()[[\"user\"]],\n",
    "        className = class(model)[[1]]\n",
    "    )\n",
    "    \n",
    "    form <- data.frame(formula=paste(deparse(formula(model)), collapse=''));\n",
    "    \n",
    "    for (env in names(environmentVars)){\n",
    "        form[[env]] <-  environmentVars[[env]];\n",
    "    }\n",
    "\n",
    "    if (!is.null(metrics)){\n",
    "        for (metric in metrics){\n",
    "            form[[metric]]  <- summary(model)[[metric]];\n",
    "        }\n",
    "    }\n",
    "\n",
    "    if (!is.null(customMetrics)){\n",
    "        for (cmetric in customMetrics){\n",
    "            form[[cmetric]] <- get(cmetric)(model);\n",
    "        }\n",
    "    }\n",
    "\n",
    "    for (arg in names(kwargs)){\n",
    "        form[[arg]] <- kwargs[[arg]];\n",
    "    }\n",
    "    \n",
    "    DIRTY_METRICS <- FALSE;\n",
    "    \n",
    "    if (exists('METRICS_LIST')){\n",
    "        \n",
    "        DIRTY_METRICS <- FALSE %in% \n",
    "            unique(\n",
    "                append(\n",
    "                    names(kwargs), unlist(\n",
    "                        append(\n",
    "                            metrics, customMetrics\n",
    "                        )\n",
    "                    )\n",
    "                ) == METRICS_LIST\n",
    "            )\n",
    "        \n",
    "        if (DIRTY_METRICS){\n",
    "            MMODELS <<- form;\n",
    "            print('false')\n",
    "        }\n",
    "    }\n",
    "    \n",
    "    METRICS_LIST <<- append(\n",
    "        names(kwargs), unlist(\n",
    "            append(\n",
    "                metrics, customMetrics\n",
    "            )\n",
    "        )\n",
    "    )\n",
    "\n",
    "    if (exists('MODELS')){\n",
    "        COUNTER <<- COUNTER + 1;\n",
    "    } else {\n",
    "        MODELS <<- form;\n",
    "        COUNTER <<- 1;\n",
    "    }\n",
    "    \n",
    "    if (exists('METRICS_LIST') & DIRTY_METRICS){\n",
    "\n",
    "        for (env in names(environmentVars)){\n",
    "            MMODELS[[env]] <<-  environmentVars[[env]];\n",
    "        }\n",
    "\n",
    "        if (!is.null(metrics)){\n",
    "            for (metric in metrics){\n",
    "                MMODELS[[metric]]  <<- summary(model)[[metric]];\n",
    "            }\n",
    "        }\n",
    "\n",
    "        if (!is.null(customMetrics)){\n",
    "            for (cmetric in customMetrics){\n",
    "                MMODELS[[cmetric]] <<- get(cmetric)(model);\n",
    "            }\n",
    "        }\n",
    "\n",
    "        for (arg in names(kwargs)){\n",
    "            MMODELS[[arg]] <<- kwargs[[arg]];\n",
    "        }\n",
    "    }\n",
    "    \n",
    "    if (COUNTER > 1){\n",
    "        if (DIRTY_METRICS){\n",
    "            combinedDf <- rbind.fill(MODELS, MMODELS);\n",
    "            MODELS <<- combinedDf[with(combinedDf, order(datetime, decreasing=TRUE)),];\n",
    "        } else {\n",
    "            combinedDf <- rbind.fill(MODELS, form);\n",
    "            MODELS <<- combinedDf[with(combinedDf, order(datetime, decreasing=TRUE)),];\n",
    "        }\n",
    "    }\n",
    "    return(form);\n",
    "}"
   ]
  },
  {
   "cell_type": "code",
   "execution_count": 545,
   "metadata": {
    "collapsed": false,
    "scrolled": true
   },
   "outputs": [
    {
     "data": {
      "text/html": [
       "<table>\n",
       "<thead><tr><th></th><th scope=col>formula</th><th scope=col>datetime</th><th scope=col>username</th><th scope=col>className</th><th scope=col>getpr2</th><th scope=col>this</th><th scope=col>foo</th><th scope=col>baz</th><th scope=col>d</th></tr></thead>\n",
       "<tbody>\n",
       "\t<tr><th scope=row>4</th><td>AnnualizedQuotedPremium ~ (factor(DRGEN) * poly(NamedInsuredAge,     3) * maritalStatusFlag) + poly(DriversOnQuote, 2) + poly(VehiclesOnQuote,     2) + HomeOwner + DsStarLevel + factor(FULL_COV)                                                                                                                                                                                    </td><td>2017-06-15 22:52:26                                                                                                                                                                                                                                                                                                                                                                   </td><td>tdobbins                                                                                                                                                                                                                                                                                                                                                                              </td><td>glm                                                                                                                                                                                                                                                                                                                                                                                   </td><td>32                                                                                                                                                                                                                                                                                                                                                                                    </td><td>this                                                                                                                                                                                                                                                                                                                                                                                  </td><td>bar                                                                                                                                                                                                                                                                                                                                                                                   </td><td>ththth                                                                                                                                                                                                                                                                                                                                                                                </td><td>NA                                                                                                                                                                                                                                                                                                                                                                                    </td></tr>\n",
       "\t<tr><th scope=row>1</th><td>AnnualizedQuotedPremium ~ (factor(DRGEN) * poly(NamedInsuredAge,     3) * maritalStatusFlag) + poly(DriversOnQuote, 2) + poly(VehiclesOnQuote,     2) + (VehiclesWithFullCoverage * VehiclesWithBI) + factor(TransferNormIndicator) +     NamedInsuredDriverPoints + factor(distMethodBin) + factor(ISO_CODE_GROUP) +     poly(AUYEAR, 2) + HomeOwner + DsStarLevel + factor(FULL_COV)</td><td>2017-06-15 22:52:17                                                                                                                                                                                                                                                                                                                                                                   </td><td>tdobbins                                                                                                                                                                                                                                                                                                                                                                              </td><td>glm                                                                                                                                                                                                                                                                                                                                                                                   </td><td>47                                                                                                                                                                                                                                                                                                                                                                                    </td><td>this                                                                                                                                                                                                                                                                                                                                                                                  </td><td>bar                                                                                                                                                                                                                                                                                                                                                                                   </td><td>ththth                                                                                                                                                                                                                                                                                                                                                                                </td><td>NA                                                                                                                                                                                                                                                                                                                                                                                    </td></tr>\n",
       "\t<tr><th scope=row>2</th><td>AnnualizedQuotedPremium ~ (factor(DRGEN) * poly(NamedInsuredAge,     3) * maritalStatusFlag) + poly(DriversOnQuote, 2) + poly(VehiclesOnQuote,     2) + (VehiclesWithFullCoverage * VehiclesWithBI) + factor(TransferNormIndicator) +     NamedInsuredDriverPoints + factor(distMethodBin) + factor(ISO_CODE_GROUP) +     poly(AUYEAR, 2) + HomeOwner + DsStarLevel + factor(FULL_COV)</td><td>2017-06-15 22:52:09                                                                                                                                                                                                                                                                                                                                                                   </td><td>tdobbins                                                                                                                                                                                                                                                                                                                                                                              </td><td>glm                                                                                                                                                                                                                                                                                                                                                                                   </td><td>47                                                                                                                                                                                                                                                                                                                                                                                    </td><td>this                                                                                                                                                                                                                                                                                                                                                                                  </td><td>bar                                                                                                                                                                                                                                                                                                                                                                                   </td><td>ththth                                                                                                                                                                                                                                                                                                                                                                                </td><td>gfds                                                                                                                                                                                                                                                                                                                                                                                  </td></tr>\n",
       "\t<tr><th scope=row>3</th><td>AnnualizedQuotedPremium ~ (factor(DRGEN) * poly(NamedInsuredAge,     3) * maritalStatusFlag) + poly(DriversOnQuote, 2) + poly(VehiclesOnQuote,     2) + (VehiclesWithFullCoverage * VehiclesWithBI) + factor(TransferNormIndicator) +     NamedInsuredDriverPoints + factor(distMethodBin) + factor(ISO_CODE_GROUP) +     poly(AUYEAR, 2) + HomeOwner + DsStarLevel + factor(FULL_COV)</td><td>2017-06-15 22:52:04                                                                                                                                                                                                                                                                                                                                                                   </td><td>tdobbins                                                                                                                                                                                                                                                                                                                                                                              </td><td>glm                                                                                                                                                                                                                                                                                                                                                                                   </td><td>47                                                                                                                                                                                                                                                                                                                                                                                    </td><td>NA                                                                                                                                                                                                                                                                                                                                                                                    </td><td>NA                                                                                                                                                                                                                                                                                                                                                                                    </td><td>NA                                                                                                                                                                                                                                                                                                                                                                                    </td><td>NA                                                                                                                                                                                                                                                                                                                                                                                    </td></tr>\n",
       "</tbody>\n",
       "</table>\n"
      ],
      "text/latex": [
       "\\begin{tabular}{r|lllllllll}\n",
       "  & formula & datetime & username & className & getpr2 & this & foo & baz & d\\\\\n",
       "\\hline\n",
       "\t4 & AnnualizedQuotedPremium \\textasciitilde{} (factor(DRGEN) * poly(NamedInsuredAge,     3) * maritalStatusFlag) + poly(DriversOnQuote, 2) + poly(VehiclesOnQuote,     2) + HomeOwner + DsStarLevel + factor(FULL\\_COV)                                                                                                                                                                                     & 2017-06-15 22:52:26                                                                                                                                                                                                                                                                                                                                                                                       & tdobbins                                                                                                                                                                                                                                                                                                                                                                                                  & glm                                                                                                                                                                                                                                                                                                                                                                                                       & 32                                                                                                                                                                                                                                                                                                                                                                                                        & this                                                                                                                                                                                                                                                                                                                                                                                                      & bar                                                                                                                                                                                                                                                                                                                                                                                                       & ththth                                                                                                                                                                                                                                                                                                                                                                                                    & NA                                                                                                                                                                                                                                                                                                                                                                                                       \\\\\n",
       "\t1 & AnnualizedQuotedPremium \\textasciitilde{} (factor(DRGEN) * poly(NamedInsuredAge,     3) * maritalStatusFlag) + poly(DriversOnQuote, 2) + poly(VehiclesOnQuote,     2) + (VehiclesWithFullCoverage * VehiclesWithBI) + factor(TransferNormIndicator) +     NamedInsuredDriverPoints + factor(distMethodBin) + factor(ISO\\_CODE\\_GROUP) +     poly(AUYEAR, 2) + HomeOwner + DsStarLevel + factor(FULL\\_COV) & 2017-06-15 22:52:17                                                                                                                                                                                                                                                                                                                                                                                           & tdobbins                                                                                                                                                                                                                                                                                                                                                                                                      & glm                                                                                                                                                                                                                                                                                                                                                                                                           & 47                                                                                                                                                                                                                                                                                                                                                                                                            & this                                                                                                                                                                                                                                                                                                                                                                                                          & bar                                                                                                                                                                                                                                                                                                                                                                                                           & ththth                                                                                                                                                                                                                                                                                                                                                                                                        & NA                                                                                                                                                                                                                                                                                                                                                                                                           \\\\\n",
       "\t2 & AnnualizedQuotedPremium \\textasciitilde{} (factor(DRGEN) * poly(NamedInsuredAge,     3) * maritalStatusFlag) + poly(DriversOnQuote, 2) + poly(VehiclesOnQuote,     2) + (VehiclesWithFullCoverage * VehiclesWithBI) + factor(TransferNormIndicator) +     NamedInsuredDriverPoints + factor(distMethodBin) + factor(ISO\\_CODE\\_GROUP) +     poly(AUYEAR, 2) + HomeOwner + DsStarLevel + factor(FULL\\_COV) & 2017-06-15 22:52:09                                                                                                                                                                                                                                                                                                                                                                                           & tdobbins                                                                                                                                                                                                                                                                                                                                                                                                      & glm                                                                                                                                                                                                                                                                                                                                                                                                           & 47                                                                                                                                                                                                                                                                                                                                                                                                            & this                                                                                                                                                                                                                                                                                                                                                                                                          & bar                                                                                                                                                                                                                                                                                                                                                                                                           & ththth                                                                                                                                                                                                                                                                                                                                                                                                        & gfds                                                                                                                                                                                                                                                                                                                                                                                                         \\\\\n",
       "\t3 & AnnualizedQuotedPremium \\textasciitilde{} (factor(DRGEN) * poly(NamedInsuredAge,     3) * maritalStatusFlag) + poly(DriversOnQuote, 2) + poly(VehiclesOnQuote,     2) + (VehiclesWithFullCoverage * VehiclesWithBI) + factor(TransferNormIndicator) +     NamedInsuredDriverPoints + factor(distMethodBin) + factor(ISO\\_CODE\\_GROUP) +     poly(AUYEAR, 2) + HomeOwner + DsStarLevel + factor(FULL\\_COV) & 2017-06-15 22:52:04                                                                                                                                                                                                                                                                                                                                                                                           & tdobbins                                                                                                                                                                                                                                                                                                                                                                                                      & glm                                                                                                                                                                                                                                                                                                                                                                                                           & 47                                                                                                                                                                                                                                                                                                                                                                                                            & NA                                                                                                                                                                                                                                                                                                                                                                                                            & NA                                                                                                                                                                                                                                                                                                                                                                                                            & NA                                                                                                                                                                                                                                                                                                                                                                                                            & NA                                                                                                                                                                                                                                                                                                                                                                                                           \\\\\n",
       "\\end{tabular}\n"
      ],
      "text/markdown": [
       "\n",
       "| <!--/--> | formula | datetime | username | className | getpr2 | this | foo | baz | d | \n",
       "|---|---|---|---|\n",
       "| 4 | AnnualizedQuotedPremium ~ (factor(DRGEN) * poly(NamedInsuredAge,     3) * maritalStatusFlag) + poly(DriversOnQuote, 2) + poly(VehiclesOnQuote,     2) + HomeOwner + DsStarLevel + factor(FULL_COV)                                                                                                                                                                                     | 2017-06-15 22:52:26                                                                                                                                                                                                                                                                                                                                                                    | tdobbins                                                                                                                                                                                                                                                                                                                                                                               | glm                                                                                                                                                                                                                                                                                                                                                                                    | 32                                                                                                                                                                                                                                                                                                                                                                                     | this                                                                                                                                                                                                                                                                                                                                                                                   | bar                                                                                                                                                                                                                                                                                                                                                                                    | ththth                                                                                                                                                                                                                                                                                                                                                                                 | NA                                                                                                                                                                                                                                                                                                                                                                                     | \n",
       "| 1 | AnnualizedQuotedPremium ~ (factor(DRGEN) * poly(NamedInsuredAge,     3) * maritalStatusFlag) + poly(DriversOnQuote, 2) + poly(VehiclesOnQuote,     2) + (VehiclesWithFullCoverage * VehiclesWithBI) + factor(TransferNormIndicator) +     NamedInsuredDriverPoints + factor(distMethodBin) + factor(ISO_CODE_GROUP) +     poly(AUYEAR, 2) + HomeOwner + DsStarLevel + factor(FULL_COV) | 2017-06-15 22:52:17                                                                                                                                                                                                                                                                                                                                                                    | tdobbins                                                                                                                                                                                                                                                                                                                                                                               | glm                                                                                                                                                                                                                                                                                                                                                                                    | 47                                                                                                                                                                                                                                                                                                                                                                                     | this                                                                                                                                                                                                                                                                                                                                                                                   | bar                                                                                                                                                                                                                                                                                                                                                                                    | ththth                                                                                                                                                                                                                                                                                                                                                                                 | NA                                                                                                                                                                                                                                                                                                                                                                                     | \n",
       "| 2 | AnnualizedQuotedPremium ~ (factor(DRGEN) * poly(NamedInsuredAge,     3) * maritalStatusFlag) + poly(DriversOnQuote, 2) + poly(VehiclesOnQuote,     2) + (VehiclesWithFullCoverage * VehiclesWithBI) + factor(TransferNormIndicator) +     NamedInsuredDriverPoints + factor(distMethodBin) + factor(ISO_CODE_GROUP) +     poly(AUYEAR, 2) + HomeOwner + DsStarLevel + factor(FULL_COV) | 2017-06-15 22:52:09                                                                                                                                                                                                                                                                                                                                                                    | tdobbins                                                                                                                                                                                                                                                                                                                                                                               | glm                                                                                                                                                                                                                                                                                                                                                                                    | 47                                                                                                                                                                                                                                                                                                                                                                                     | this                                                                                                                                                                                                                                                                                                                                                                                   | bar                                                                                                                                                                                                                                                                                                                                                                                    | ththth                                                                                                                                                                                                                                                                                                                                                                                 | gfds                                                                                                                                                                                                                                                                                                                                                                                   | \n",
       "| 3 | AnnualizedQuotedPremium ~ (factor(DRGEN) * poly(NamedInsuredAge,     3) * maritalStatusFlag) + poly(DriversOnQuote, 2) + poly(VehiclesOnQuote,     2) + (VehiclesWithFullCoverage * VehiclesWithBI) + factor(TransferNormIndicator) +     NamedInsuredDriverPoints + factor(distMethodBin) + factor(ISO_CODE_GROUP) +     poly(AUYEAR, 2) + HomeOwner + DsStarLevel + factor(FULL_COV) | 2017-06-15 22:52:04                                                                                                                                                                                                                                                                                                                                                                    | tdobbins                                                                                                                                                                                                                                                                                                                                                                               | glm                                                                                                                                                                                                                                                                                                                                                                                    | 47                                                                                                                                                                                                                                                                                                                                                                                     | NA                                                                                                                                                                                                                                                                                                                                                                                     | NA                                                                                                                                                                                                                                                                                                                                                                                     | NA                                                                                                                                                                                                                                                                                                                                                                                     | NA                                                                                                                                                                                                                                                                                                                                                                                     | \n",
       "\n",
       "\n"
      ],
      "text/plain": [
       "  formula                                                                                                                                                                                                                                                                                                                                                                               \n",
       "4 AnnualizedQuotedPremium ~ (factor(DRGEN) * poly(NamedInsuredAge,     3) * maritalStatusFlag) + poly(DriversOnQuote, 2) + poly(VehiclesOnQuote,     2) + HomeOwner + DsStarLevel + factor(FULL_COV)                                                                                                                                                                                    \n",
       "1 AnnualizedQuotedPremium ~ (factor(DRGEN) * poly(NamedInsuredAge,     3) * maritalStatusFlag) + poly(DriversOnQuote, 2) + poly(VehiclesOnQuote,     2) + (VehiclesWithFullCoverage * VehiclesWithBI) + factor(TransferNormIndicator) +     NamedInsuredDriverPoints + factor(distMethodBin) + factor(ISO_CODE_GROUP) +     poly(AUYEAR, 2) + HomeOwner + DsStarLevel + factor(FULL_COV)\n",
       "2 AnnualizedQuotedPremium ~ (factor(DRGEN) * poly(NamedInsuredAge,     3) * maritalStatusFlag) + poly(DriversOnQuote, 2) + poly(VehiclesOnQuote,     2) + (VehiclesWithFullCoverage * VehiclesWithBI) + factor(TransferNormIndicator) +     NamedInsuredDriverPoints + factor(distMethodBin) + factor(ISO_CODE_GROUP) +     poly(AUYEAR, 2) + HomeOwner + DsStarLevel + factor(FULL_COV)\n",
       "3 AnnualizedQuotedPremium ~ (factor(DRGEN) * poly(NamedInsuredAge,     3) * maritalStatusFlag) + poly(DriversOnQuote, 2) + poly(VehiclesOnQuote,     2) + (VehiclesWithFullCoverage * VehiclesWithBI) + factor(TransferNormIndicator) +     NamedInsuredDriverPoints + factor(distMethodBin) + factor(ISO_CODE_GROUP) +     poly(AUYEAR, 2) + HomeOwner + DsStarLevel + factor(FULL_COV)\n",
       "  datetime            username className getpr2 this foo baz    d   \n",
       "4 2017-06-15 22:52:26 tdobbins glm       32     this bar ththth NA  \n",
       "1 2017-06-15 22:52:17 tdobbins glm       47     this bar ththth NA  \n",
       "2 2017-06-15 22:52:09 tdobbins glm       47     this bar ththth gfds\n",
       "3 2017-06-15 22:52:04 tdobbins glm       47     NA   NA  NA     NA  "
      ]
     },
     "metadata": {},
     "output_type": "display_data"
    }
   ],
   "source": [
    "MODELS"
   ]
  },
  {
   "cell_type": "code",
   "execution_count": 544,
   "metadata": {
    "collapsed": false
   },
   "outputs": [
    {
     "name": "stdout",
     "output_type": "stream",
     "text": [
      "Time difference of 0.02617693 secs\n"
     ]
    },
    {
     "data": {
      "text/html": [
       "<table>\n",
       "<thead><tr><th scope=col>formula</th><th scope=col>datetime</th><th scope=col>username</th><th scope=col>className</th><th scope=col>getpr2</th><th scope=col>this</th><th scope=col>foo</th><th scope=col>baz</th></tr></thead>\n",
       "<tbody>\n",
       "\t<tr><td>AnnualizedQuotedPremium ~ (factor(DRGEN) * poly(NamedInsuredAge,     3) * maritalStatusFlag) + poly(DriversOnQuote, 2) + poly(VehiclesOnQuote,     2) + HomeOwner + DsStarLevel + factor(FULL_COV)</td><td>2017-06-15 22:52:26                                                                                                                                                                               </td><td>tdobbins                                                                                                                                                                                          </td><td>glm                                                                                                                                                                                               </td><td>32                                                                                                                                                                                                </td><td>this                                                                                                                                                                                              </td><td>bar                                                                                                                                                                                               </td><td>ththth                                                                                                                                                                                            </td></tr>\n",
       "</tbody>\n",
       "</table>\n"
      ],
      "text/latex": [
       "\\begin{tabular}{r|llllllll}\n",
       " formula & datetime & username & className & getpr2 & this & foo & baz\\\\\n",
       "\\hline\n",
       "\t AnnualizedQuotedPremium \\textasciitilde{} (factor(DRGEN) * poly(NamedInsuredAge,     3) * maritalStatusFlag) + poly(DriversOnQuote, 2) + poly(VehiclesOnQuote,     2) + HomeOwner + DsStarLevel + factor(FULL\\_COV) & 2017-06-15 22:52:26                                                                                                                                                                                                   & tdobbins                                                                                                                                                                                                              & glm                                                                                                                                                                                                                   & 32                                                                                                                                                                                                                    & this                                                                                                                                                                                                                  & bar                                                                                                                                                                                                                   & ththth                                                                                                                                                                                                               \\\\\n",
       "\\end{tabular}\n"
      ],
      "text/markdown": [
       "\n",
       "formula | datetime | username | className | getpr2 | this | foo | baz | \n",
       "|---|\n",
       "| AnnualizedQuotedPremium ~ (factor(DRGEN) * poly(NamedInsuredAge,     3) * maritalStatusFlag) + poly(DriversOnQuote, 2) + poly(VehiclesOnQuote,     2) + HomeOwner + DsStarLevel + factor(FULL_COV) | 2017-06-15 22:52:26                                                                                                                                                                                | tdobbins                                                                                                                                                                                           | glm                                                                                                                                                                                                | 32                                                                                                                                                                                                 | this                                                                                                                                                                                               | bar                                                                                                                                                                                                | ththth                                                                                                                                                                                             | \n",
       "\n",
       "\n"
      ],
      "text/plain": [
       "  formula                                                                                                                                                                                           \n",
       "1 AnnualizedQuotedPremium ~ (factor(DRGEN) * poly(NamedInsuredAge,     3) * maritalStatusFlag) + poly(DriversOnQuote, 2) + poly(VehiclesOnQuote,     2) + HomeOwner + DsStarLevel + factor(FULL_COV)\n",
       "  datetime            username className getpr2 this foo baz   \n",
       "1 2017-06-15 22:52:26 tdobbins glm       32     this bar ththth"
      ]
     },
     "metadata": {},
     "output_type": "display_data"
    }
   ],
   "source": [
    "time1 <- Sys.time();\n",
    "\n",
    "model.glm <- glm(\n",
    "    AnnualizedQuotedPremium ~ \n",
    "        (factor(DRGEN) * poly(NamedInsuredAge, 3) * maritalStatusFlag) + \n",
    "        poly(DriversOnQuote, 2) +\n",
    "        poly(VehiclesOnQuote, 2) + \n",
    "#         (VehiclesWithFullCoverage * VehiclesWithBI) +\n",
    "#         factor(TransferNormIndicator) +\n",
    "#         NamedInsuredDriverPoints + \n",
    "#         factor(distMethodBin) +\n",
    "#         factor(ISO_CODE_GROUP) +\n",
    "#         poly(AUYEAR, 2) +\n",
    "        HomeOwner +\n",
    "        DsStarLevel +\n",
    "        factor(FULL_COV),\n",
    "    data=train, \n",
    "    family=Gamma(link=\"log\")\n",
    ")\n",
    "\n",
    "time2 <- Sys.time() - time1;\n",
    "print(time2);\n",
    "\n",
    "pvc(model.glm, metrics=list('link', 'sigma'), customMetrics=list('getr2', 'getpr2'), this='this', foo='bar', baz='ththth');"
   ]
  },
  {
   "cell_type": "code",
   "execution_count": 536,
   "metadata": {
    "collapsed": true
   },
   "outputs": [],
   "source": [
    "rm(MODELS);rm(COUNTER);rm(MMODELS);rm(METRICS_LIST)"
   ]
  },
  {
   "cell_type": "code",
   "execution_count": 124,
   "metadata": {
    "collapsed": true
   },
   "outputs": [],
   "source": [
    "train.sub <- train[\n",
    "#     !is.na(model.glmer.data$DRGEN) &\n",
    "    !is.na(train$DsStarLevel),\n",
    "]"
   ]
  },
  {
   "cell_type": "code",
   "execution_count": 48,
   "metadata": {
    "collapsed": true
   },
   "outputs": [],
   "source": [
    "output.train <- cbind(\n",
    "    train.sub, \n",
    "    predict=fitted(model.glmer), \n",
    "    resid=resid(model.glmer)\n",
    ")\n",
    "\n",
    "meanErr <- mean(abs(output.train$AnnualizedQuotedPremium - output.train$predict))\n",
    "sdErr <- sd(abs(output.train$AnnualizedQuotedPremium - output.train$predict))"
   ]
  },
  {
   "cell_type": "code",
   "execution_count": 49,
   "metadata": {
    "collapsed": true
   },
   "outputs": [],
   "source": [
    "threshold <- 0.2;\n",
    "thresholdRate <- nrow(\n",
    "    output.train[\n",
    "        output.train$AnnualizedQuotedPremium*(1-threshold) < \n",
    "        output.train$predict &\n",
    "        output.train$predict <\n",
    "        output.train$AnnualizedQuotedPremium*(1+threshold),\n",
    "    ]\n",
    ")/nrow(output.train)"
   ]
  },
  {
   "cell_type": "code",
   "execution_count": 50,
   "metadata": {
    "collapsed": true
   },
   "outputs": [],
   "source": [
    "filteredData <- output.train[output.train$AnnualizedQuotedPremium > output.train$predict,];\n",
    "\n",
    "output.train$adjustedresdiuals <- round(abs(output.train$WRITTEN - fitted(model.glmer)), 3);\n",
    "filteredData$accuracyRate <- 100/(filteredData$AnnualizedQuotedPremium/abs(filteredData$AnnualizedQuotedPremium-filteredData$predict))\n",
    "output.train$accuracyRate <- 100/(output.train$AnnualizedQuotedPremium/abs(output.train$AnnualizedQuotedPremium-output.train$predict))\n",
    "\n",
    "accuracyRate <- mean(output.train$accuracyRate);"
   ]
  },
  {
   "cell_type": "code",
   "execution_count": 51,
   "metadata": {
    "collapsed": false
   },
   "outputs": [
    {
     "name": "stdout",
     "output_type": "stream",
     "text": [
      "\n",
      "         MEAN ERROR:    529.698448309204\n",
      "         STDV ERROR:    719.271289585662\n",
      "         THRESHOLD:     0.685\n",
      "         RMSE:          892.787422729152\n",
      "         ACCURACY RATE: 17.6524573592468"
     ]
    }
   ],
   "source": [
    "# latest.csv\n",
    "rmse <- sqrt(mean((output.train$AnnualizedQuotedPremium - output.train$predict)^2));\n",
    "cat(\n",
    "    sprintf(\"\n",
    "         MEAN ERROR:    %s\n",
    "         STDV ERROR:    %s\n",
    "         THRESHOLD:     %s\n",
    "         RMSE:          %s\n",
    "         ACCURACY RATE: %s\", meanErr, sdErr, thresholdRate, rmse, accuracyRate\n",
    "    )\n",
    ")"
   ]
  },
  {
   "cell_type": "code",
   "execution_count": null,
   "metadata": {
    "collapsed": true
   },
   "outputs": [],
   "source": [
    "groud truth: 0 = 654707, 1 = 45293\n",
    "classifier:  0 = 617307, 1 = 82693\n",
    "Total: 700000\n",
    "observed accuracy: ((45293 + 617307)/700000) = 0.946571428571429\n",
    "expected accuracy: ((654707*617307/700000)+(45293*82693/700000))/700000 = 0.83245026142449\n",
    "kappa: (0.946571428571429 - 0.83245026142449)/(1-0.83245026142449) = 0.6811181450785"
   ]
  },
  {
   "cell_type": "code",
   "execution_count": null,
   "metadata": {
    "collapsed": true
   },
   "outputs": [],
   "source": []
  },
  {
   "cell_type": "code",
   "execution_count": null,
   "metadata": {
    "collapsed": true
   },
   "outputs": [],
   "source": []
  },
  {
   "cell_type": "code",
   "execution_count": null,
   "metadata": {
    "collapsed": true
   },
   "outputs": [],
   "source": []
  },
  {
   "cell_type": "code",
   "execution_count": null,
   "metadata": {
    "collapsed": true
   },
   "outputs": [],
   "source": []
  },
  {
   "cell_type": "code",
   "execution_count": null,
   "metadata": {
    "collapsed": true
   },
   "outputs": [],
   "source": []
  },
  {
   "cell_type": "code",
   "execution_count": null,
   "metadata": {
    "collapsed": true
   },
   "outputs": [],
   "source": []
  },
  {
   "cell_type": "code",
   "execution_count": null,
   "metadata": {
    "collapsed": true
   },
   "outputs": [],
   "source": []
  },
  {
   "cell_type": "code",
   "execution_count": null,
   "metadata": {
    "collapsed": true
   },
   "outputs": [],
   "source": []
  },
  {
   "cell_type": "code",
   "execution_count": null,
   "metadata": {
    "collapsed": true
   },
   "outputs": [],
   "source": []
  }
 ],
 "metadata": {
  "kernelspec": {
   "display_name": "R",
   "language": "R",
   "name": "ir"
  },
  "language_info": {
   "codemirror_mode": "r",
   "file_extension": ".r",
   "mimetype": "text/x-r-source",
   "name": "R",
   "pygments_lexer": "r",
   "version": "3.3.2"
  }
 },
 "nbformat": 4,
 "nbformat_minor": 2
}
